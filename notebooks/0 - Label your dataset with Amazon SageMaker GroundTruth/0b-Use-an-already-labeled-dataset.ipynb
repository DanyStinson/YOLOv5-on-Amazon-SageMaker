{
 "cells": [
  {
   "cell_type": "code",
   "execution_count": null,
   "id": "9a83a17a-570e-43cd-949e-2035eda4c1b2",
   "metadata": {},
   "outputs": [],
   "source": []
  }
 ],
 "metadata": {
  "kernelspec": {
   "display_name": "",
   "name": ""
  },
  "language_info": {
   "name": ""
  }
 },
 "nbformat": 4,
 "nbformat_minor": 5
}
