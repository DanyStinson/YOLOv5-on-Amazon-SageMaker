{
 "cells": [
  {
   "cell_type": "markdown",
   "id": "cd5dc62b-f45f-4e37-be85-69c8f2b80c79",
   "metadata": {},
   "source": [
    "# Train and deploy a Custom YOLOv5 model on Amazon SageMaker Pipelines"
   ]
  },
  {
   "cell_type": "markdown",
   "id": "71eae77e-06e9-4d13-a90b-cfe71138f1c1",
   "metadata": {},
   "source": [
    "In this notebook we will train and deploy custom YOLOv5 object detection CV model with Amazon SageMaker Pipelines.\n",
    "\n",
    "**Steps:**\n",
    "\n",
    "0. Initial configuration.\n",
    "1. Locate a labeled dataset with YOLOv5 expected format.\n",
    "2. Configure SM Pipeline Parameters\n",
    "3. Configure SM Pipeline Steps\n",
    "4. Execute the pipeline\n",
    "5. Deploy the model after approval"
   ]
  },
  {
   "cell_type": "markdown",
   "id": "04db05e9-1a20-42b8-8d01-4ada08c25a5e",
   "metadata": {},
   "source": [
    "## 0. Initial Configuration"
   ]
  },
  {
   "cell_type": "code",
   "execution_count": null,
   "id": "63ff6efc-90e0-4b06-8822-12c3463e92fd",
   "metadata": {},
   "outputs": [],
   "source": [
    "import sys\n",
    "!{sys.executable} -m pip install -qU pip\n",
    "!{sys.executable} -m pip install -qU sagemaker"
   ]
  },
  {
   "cell_type": "code",
   "execution_count": null,
   "id": "186f5cdf-079c-4bc2-a9f5-422461b56e32",
   "metadata": {},
   "outputs": [],
   "source": [
    "import boto3\n",
    "import sagemaker\n",
    "import json\n",
    "import time\n",
    "import uuid\n",
    "\n",
    "from sagemaker.workflow.pipeline_context import PipelineSession\n",
    "from sagemaker.workflow.steps import CacheConfig\n",
    "from sagemaker.workflow.parameters import (\n",
    "    ParameterInteger,\n",
    "    ParameterString,\n",
    "    ParameterFloat,\n",
    ")\n",
    "\n",
    "from sagemaker.workflow.model_step import ModelStep\n",
    "from sagemaker.pytorch.estimator import PyTorch\n",
    "from sagemaker.workflow.condition_step import ConditionStep\n",
    "from sagemaker.workflow.conditions import ConditionLessThanOrEqualTo\n",
    "from sagemaker.pytorch import PyTorchModel\n",
    "\n",
    "\n",
    "sagemaker_session = sagemaker.session.Session()\n",
    "pipeline_session = PipelineSession()\n",
    "role = sagemaker.get_execution_role()"
   ]
  },
  {
   "cell_type": "markdown",
   "id": "aa793bdf-333e-47d8-9f96-6362f528da92",
   "metadata": {},
   "source": [
    "## 1. Locate a labeled dataset with YOLOv5 expected format."
   ]
  },
  {
   "cell_type": "markdown",
   "id": "1d98259f-7446-4031-b6b9-c3bc4d9900d1",
   "metadata": {},
   "source": [
    "Before we train a custom YOLOv5 model, we need to have a labeled dataset. In the previous notebook \"0 - Label your dataset with Amazon SageMaker GroundTruth\" you will be able to label your own dataset and transform it into YOLOv5 expected format or use an example custom dataset. Once you have run through one of the two options you will have available the S3 dataset location and labels used."
   ]
  },
  {
   "cell_type": "code",
   "execution_count": null,
   "id": "9ba1afb9-acc7-4881-9c8c-4acb827f236a",
   "metadata": {},
   "outputs": [],
   "source": [
    "dataset_s3_uri = \"\"\n",
    "labels = [\"\"]"
   ]
  },
  {
   "cell_type": "markdown",
   "id": "b838988b-eb73-4f99-b278-1bec05478d73",
   "metadata": {},
   "source": [
    "## 2. Configure SM Pipeline Parameters"
   ]
  },
  {
   "cell_type": "markdown",
   "id": "aafed775-4d96-419d-8fcc-63e9ffa30858",
   "metadata": {},
   "source": [
    "Configure the different parameters the pipeline needs to run."
   ]
  },
  {
   "cell_type": "code",
   "execution_count": null,
   "id": "a92524eb-b7d6-49b6-a9b6-eb85a83cda0b",
   "metadata": {},
   "outputs": [],
   "source": [
    "MAP_threshold = ParameterFloat(\n",
    "    name=\"MAPThreshold\", \n",
    "    default_value=0.8\n",
    ")\n",
    "\n",
    "processing_instance_count = ParameterInteger(name=\"ProcessingInstanceCount\", \n",
    "                                             default_value=1)\n",
    "\n",
    "instance_type = ParameterString(name=\"TrainingInstanceType\", \n",
    "                                default_value=\"ml.m5.xlarge\")\n",
    "\n",
    "model_approval_status = ParameterString(\n",
    "    name=\"ModelApprovalStatus\", \n",
    "    default_value=\"PendingManualApproval\"\n",
    ")\n",
    "\n",
    "labeled_dataset_uri = ParameterString(\n",
    "    name=\"labeled_dataset_uri\",\n",
    "    default_value=dataset_s3_uri,\n",
    ")\n",
    "\n",
    "default_bucket = sagemaker_session.default_bucket()\n",
    "\n",
    "model_package_group_name = \"Yolov5-PL\"\n",
    "\n",
    "cache_config = CacheConfig(\n",
    "    enable_caching=True, \n",
    "    expire_after=\"PT1H\")"
   ]
  },
  {
   "cell_type": "markdown",
   "id": "f153bae1-5efa-4033-94c2-6b5c4bb33ca0",
   "metadata": {},
   "source": [
    "## 3. Configure SM Pipeline Steps"
   ]
  },
  {
   "cell_type": "code",
   "execution_count": null,
   "id": "ae84f506-0d5a-49f0-a60a-b3d8215b48d0",
   "metadata": {},
   "outputs": [],
   "source": [
    "!git clone --quiet https://github.com/ultralytics/yolov5 yolov5\n",
    "!wget -q https://github.com/ultralytics/yolov5/releases/download/v6.2/yolov5s.pt -P yolov5"
   ]
  },
  {
   "cell_type": "markdown",
   "id": "948fc14c-854c-430c-96af-d1860d2145b6",
   "metadata": {},
   "source": [
    "### Train Step"
   ]
  },
  {
   "cell_type": "markdown",
   "id": "7705f2aa-6898-47c2-a6aa-80a360c356f6",
   "metadata": {},
   "source": [
    "We are going to update the validation file to log the metrics which we will later use to evaluate our trained model. "
   ]
  },
  {
   "cell_type": "code",
   "execution_count": null,
   "id": "283cf899-14b0-4179-bec4-ca04fd57d7b6",
   "metadata": {},
   "outputs": [],
   "source": [
    "list = [\"f'MP={mp};'\", \"f'MR={mr};'\", \"f'MAP50={map50};'\"]\n",
    "origin_file = open('yolov5/val.py','r').readlines()\n",
    "update_file = open('yolov5/val.py','w')\n",
    "for line in origin_file:\n",
    "    update_file.write(line)\n",
    "    if '    # Return results' in line:\n",
    "       for item in list:\n",
    "            new_line = \"    LOGGER.info(%s)\" %(item)        \n",
    "            update_file.write(new_line + \"\\n\") \n",
    "update_file.close()"
   ]
  },
  {
   "cell_type": "markdown",
   "id": "1d94364e-89fe-4b2a-a530-e82b091fba2d",
   "metadata": {},
   "source": [
    "Now let's define the data sources to the data library in the yolov5 folder for our model to train"
   ]
  },
  {
   "cell_type": "code",
   "execution_count": null,
   "id": "558b39d5-b2f7-4662-9c52-efc46e1e6bcd",
   "metadata": {},
   "outputs": [],
   "source": [
    "def create_datafile(labels):\n",
    "    write_file = open('yolov5/data/custom-coco.yaml','w')\n",
    "    write_file.write('path: /opt/ml/input/data/train\\n')\n",
    "    write_file.write('train: images/train\\n')\n",
    "    write_file.write('val: images/validation\\n')\n",
    "    write_file.write('names:\\n')\n",
    "    for idx, label in enumerate(labels):\n",
    "        write_file.write(\"  {}: {}\\n\".format(idx,label))\n",
    "    write_file.close()\n",
    "\n",
    "create_datafile(labels)"
   ]
  },
  {
   "cell_type": "code",
   "execution_count": null,
   "id": "c7520972-db68-4af9-b3a3-3a9b875be7ab",
   "metadata": {
    "tags": []
   },
   "outputs": [],
   "source": [
    "from sagemaker.estimator import Estimator\n",
    "from sagemaker.inputs import TrainingInput\n",
    "\n",
    "metric_definitions=[\n",
    "    {\n",
    "        \"Name\": \"MP\",\n",
    "        \"Regex\": \"MP=(.*?);\",\n",
    "    },\n",
    "    {\n",
    "        \"Name\": \"MR\",\n",
    "        \"Regex\": \"MR=(.*?);\",\n",
    "    },\n",
    "    {\n",
    "        \"Name\": \"MAP50\",\n",
    "        \"Regex\": \"MAP50=(.*?);\",\n",
    "    }\n",
    "]\n",
    "\n",
    "hyperparameters={\n",
    "    \"workers\":\"8\",\n",
    "    \"device\": \"0\",\n",
    "    \"batch-size\": \"8\",\n",
    "    \"epochs\": \"30\",\n",
    "    \"data\": \"custom-coco.yaml\",\n",
    "    \"weights\": \"yolov5s.pt\",\n",
    "    \"project\": \"/opt/ml/model\"\n",
    "}\n",
    "\n",
    "estimator = PyTorch(\n",
    "    framework_version='1.11.0',\n",
    "    py_version='py38',\n",
    "    entry_point='train.py',\n",
    "    source_dir='yolov5',\n",
    "    hyperparameters=hyperparameters,\n",
    "    instance_count=1,\n",
    "    instance_type='ml.g5.2xlarge',\n",
    "    role=role,\n",
    "    disable_profiler=True, \n",
    "    debugger_hook_config=False,\n",
    "    sagemaker_session=pipeline_session,\n",
    "    metric_definitions=metric_definitions\n",
    ")\n",
    "\n",
    "train_args = estimator.fit(\n",
    "    inputs={\n",
    "        \"train\": TrainingInput(\n",
    "            s3_data = dataset_s3_uri\n",
    "        )\n",
    "    },\n",
    "    job_name='yolov5-train-{}'.format(str(uuid.uuid4()))\n",
    ")"
   ]
  },
  {
   "cell_type": "code",
   "execution_count": null,
   "id": "20c0aced-55be-414f-859c-3071dbad4827",
   "metadata": {},
   "outputs": [],
   "source": [
    "from sagemaker.inputs import TrainingInput\n",
    "from sagemaker.workflow.steps import TrainingStep\n",
    "\n",
    "step_train = TrainingStep(\n",
    "    name=\"TrainModel\",\n",
    "    step_args=train_args,\n",
    "    cache_config=cache_config\n",
    ")"
   ]
  },
  {
   "cell_type": "markdown",
   "id": "59f03d74-b4e1-4702-b87f-0b9cbfd098d5",
   "metadata": {},
   "source": [
    "### Create Model Step"
   ]
  },
  {
   "cell_type": "code",
   "execution_count": null,
   "id": "78fd7651-4725-4bea-a8c9-4c27e4197017",
   "metadata": {},
   "outputs": [],
   "source": [
    "model = PyTorchModel(\n",
    "    entry_point='detect.py',\n",
    "    source_dir='helper-code',\n",
    "    model_data=step_train.properties.ModelArtifacts.S3ModelArtifacts,\n",
    "    framework_version='1.11.0',\n",
    "    py_version='py38',\n",
    "    role=role,\n",
    "    sagemaker_session=pipeline_session\n",
    ")\n",
    "\n",
    "step_create_model = ModelStep(\n",
    "    name=\"CreateModel\",\n",
    "    step_args=model.create(instance_type=\"ml.c5.large\"),\n",
    ")\n",
    "\n",
    "step_create_model.depends_on = [step_cond]"
   ]
  },
  {
   "cell_type": "markdown",
   "id": "2f282f62-b618-429b-98e7-e511e7b4f075",
   "metadata": {},
   "source": [
    "### Register Model Step"
   ]
  },
  {
   "cell_type": "code",
   "execution_count": null,
   "id": "fdf420e6-7a12-4af7-abda-0daf3e52af3e",
   "metadata": {},
   "outputs": [],
   "source": [
    "register_model_step_args = model.register(\n",
    "    content_types=[\"application/json\"],\n",
    "    response_types=[\"application/json\"],\n",
    "    inference_instances=[\"ml.c5.large\"],\n",
    "    model_package_group_name=model_package_group_name,\n",
    "    approval_status=model_approval_status\n",
    ")\n",
    "\n",
    "step_register = ModelStep(\n",
    "   name=\"RegisterModel\",\n",
    "   step_args=register_model_step_args,\n",
    ")\n",
    "\n",
    "step_register.depends_on = [step_create_model]"
   ]
  },
  {
   "cell_type": "markdown",
   "id": "147ccb9f-77dd-4fb7-9d21-391e8d3ee888",
   "metadata": {},
   "source": [
    "### Condition Step"
   ]
  },
  {
   "cell_type": "code",
   "execution_count": null,
   "id": "76533c75-c5e5-42c7-94f2-a343f2db41c1",
   "metadata": {},
   "outputs": [],
   "source": [
    "cond_lte = ConditionLessThanOrEqualTo(\n",
    "    right=step_train.properties.FinalMetricDataList['MAP50'].Value,\n",
    "    left=MAP_threshold,\n",
    ")\n",
    "\n",
    "step_cond = ConditionStep(\n",
    "    name=\"EvaluateMetrics\",\n",
    "    conditions=[cond_lte],\n",
    "    if_steps=[step_create_model,step_register],\n",
    "    else_steps=[],\n",
    ")\n",
    "\n",
    "step_cond.add_depends_on([step_train])"
   ]
  },
  {
   "cell_type": "markdown",
   "id": "ecdef420-62ab-44dd-93a6-3a8041da242b",
   "metadata": {},
   "source": [
    "## 4. Execute the pipeline"
   ]
  },
  {
   "cell_type": "code",
   "execution_count": null,
   "id": "b4f97ced-7ce8-4d0b-ae05-e0ac409520a2",
   "metadata": {},
   "outputs": [],
   "source": [
    "from sagemaker.workflow.pipeline import Pipeline\n",
    "\n",
    "pipeline_name = f\"YOLOv5-Pipeline\"\n",
    "pipeline = Pipeline(\n",
    "    name=pipeline_name,\n",
    "    parameters=[\n",
    "        labeled_dataset_uri,\n",
    "        processing_instance_count,\n",
    "        instance_type,\n",
    "        model_approval_status,\n",
    "        MAP_threshold\n",
    "    ],\n",
    "    steps=[step_train, step_cond]\n",
    ")"
   ]
  },
  {
   "cell_type": "markdown",
   "id": "25d47cf4-7ced-472a-8bfe-aaecc4f6f85d",
   "metadata": {},
   "source": [
    "Verify the pipeline json definition is well constructed"
   ]
  },
  {
   "cell_type": "code",
   "execution_count": null,
   "id": "b007ac1d-05fe-4a5f-acf5-968856d292ae",
   "metadata": {},
   "outputs": [],
   "source": [
    "json.loads(pipeline.definition())"
   ]
  },
  {
   "cell_type": "markdown",
   "id": "416e934d-c278-403e-99c3-cf066499b6ad",
   "metadata": {},
   "source": [
    "Upsert the newly created pipeline"
   ]
  },
  {
   "cell_type": "code",
   "execution_count": null,
   "id": "dee869bc-c460-494b-a2aa-2482e0713a44",
   "metadata": {},
   "outputs": [],
   "source": [
    "pipeline.upsert(role_arn=role)"
   ]
  },
  {
   "cell_type": "markdown",
   "id": "15875651-b999-484d-91c7-3f27f3b903ae",
   "metadata": {},
   "source": [
    "Execute the pipeline. "
   ]
  },
  {
   "cell_type": "code",
   "execution_count": null,
   "id": "3ff1ff13-7e5c-4bac-bd8d-b0407523cb3b",
   "metadata": {},
   "outputs": [],
   "source": [
    "execution = pipeline.start()"
   ]
  },
  {
   "cell_type": "markdown",
   "id": "ac2cef5b-6df2-4e2f-a62d-05581fc83210",
   "metadata": {},
   "source": [
    "## 5. Deploy the model after approval"
   ]
  },
  {
   "cell_type": "code",
   "execution_count": null,
   "id": "418d0c61-ff12-472d-9cd8-3921df905135",
   "metadata": {},
   "outputs": [],
   "source": [
    "#TODO"
   ]
  }
 ],
 "metadata": {
  "instance_type": "ml.t3.medium",
  "kernelspec": {
   "display_name": "Python 3 (Data Science)",
   "language": "python",
   "name": "python3__SAGEMAKER_INTERNAL__arn:aws:sagemaker:eu-west-1:470317259841:image/datascience-1.0"
  },
  "language_info": {
   "codemirror_mode": {
    "name": "ipython",
    "version": 3
   },
   "file_extension": ".py",
   "mimetype": "text/x-python",
   "name": "python",
   "nbconvert_exporter": "python",
   "pygments_lexer": "ipython3",
   "version": "3.7.10"
  }
 },
 "nbformat": 4,
 "nbformat_minor": 5
}
